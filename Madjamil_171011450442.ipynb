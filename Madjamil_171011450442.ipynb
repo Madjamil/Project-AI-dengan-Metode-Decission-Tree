{
 "cells": [
  {
   "cell_type": "code",
   "execution_count": 7,
   "metadata": {},
   "outputs": [],
   "source": [
    "from sklearn import tree\n",
    "#Madjamil\n",
    "#Penjelasan #Tinggi #BeratBadan #Sepatu #PjgRambut #PjgKaki\n",
    "Parameter =[\n",
    "            [170,    53,          32,      2,        95],\n",
    "            [165,    51,          31,     14,        92],\n",
    "            [180,    56,          33,      1,       101],\n",
    "            [176,    55,          33,      2,        99],\n",
    "            [182,    56,          34,      3,       102],\n",
    "            [160,    64,          29,     15,        90],\n",
    "            [154,    62,          28,     14,        86],\n",
    "            [170,    68,          31,     16,        95],\n",
    "            [155,    62,          28,     14,        87],\n",
    "            [161,    64,          29,     15,        90]\n",
    "            ]\n",
    "Gender = [ \t\n",
    "            'laki-laki',\n",
    "            'laki-laki',\n",
    "            'laki-laki',\n",
    "            'laki-laki',\n",
    "            'laki-laki',\n",
    "            'perempuan',\n",
    "            'perempuan',\n",
    "            'perempuan',\n",
    "            'perempuan',\n",
    "            'perempuan'\n",
    "            ]"
   ]
  },
  {
   "cell_type": "code",
   "execution_count": 8,
   "metadata": {},
   "outputs": [],
   "source": [
    "#Memanggil metode Decision Tree dari Library \n",
    "metode = tree.DecisionTreeClassifier()\n",
    "#Training data\n",
    "metode = metode.fit(Parameter, Gender)"
   ]
  },
  {
   "cell_type": "code",
   "execution_count": 11,
   "metadata": {},
   "outputs": [
    {
     "data": {
      "text/plain": [
       "array(['laki-laki'], dtype='<U9')"
      ]
     },
     "execution_count": 11,
     "metadata": {},
     "output_type": "execute_result"
    }
   ],
   "source": [
    "#mencoba untuk memprediksi data\n",
    "prediksi = metode.predict([[150,47,28,3,84]])\n",
    "prediksi"
   ]
  },
  {
   "cell_type": "code",
   "execution_count": 13,
   "metadata": {},
   "outputs": [
    {
     "data": {
      "text/plain": [
       "array(['perempuan'], dtype='<U9')"
      ]
     },
     "execution_count": 13,
     "metadata": {},
     "output_type": "execute_result"
    }
   ],
   "source": [
    "prediksi = metode.predict([[160,65,28,14,92]])\n",
    "prediksi"
   ]
  }
 ],
 "metadata": {
  "kernelspec": {
   "display_name": "Python 3",
   "language": "python",
   "name": "python3"
  },
  "language_info": {
   "codemirror_mode": {
    "name": "ipython",
    "version": 3
   },
   "file_extension": ".py",
   "mimetype": "text/x-python",
   "name": "python",
   "nbconvert_exporter": "python",
   "pygments_lexer": "ipython3",
   "version": "3.8.5"
  }
 },
 "nbformat": 4,
 "nbformat_minor": 4
}
